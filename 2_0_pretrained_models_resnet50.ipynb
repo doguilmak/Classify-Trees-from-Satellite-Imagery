{
  "nbformat": 4,
  "nbformat_minor": 0,
  "metadata": {
    "colab": {
      "name": "2_0_pretrained_models.ipynb",
      "provenance": [],
      "collapsed_sections": []
    },
    "kernelspec": {
      "name": "python3",
      "display_name": "Python 3"
    },
    "language_info": {
      "name": "python"
    }
  },
  "cells": [
    {
      "cell_type": "markdown",
      "source": [
        "<h1>Classify Trees in Satellite Imagery</h1>\n",
        "<img src=\"https://eoimages.gsfc.nasa.gov/images/imagerecords/40000/40228/moorhead_tm5_2009253.jpg\" width=1000 height=400 alt=\"esto.nasa.gov\"/>\n",
        "\n",
        "<br>\n",
        "\n",
        "<h2>Objective</h2>\n",
        "\n",
        "<ul>\n",
        "  <li> How to create a dataset object with <b>Trees in Satellite Imagery</b> dataset.</li>\n",
        "</ul> \n",
        "\n",
        "<p>Tree detection can be used for applications such as vegetation management, forestry, urban planning, etc. Tree identifications are very important in terms of impending famine and forest fires.</p>\n",
        "\n",
        "<br>\n",
        "\n",
        "<h2>About Dataset</h2>\n",
        "\n",
        "<p>This dataset is being used for classifying the land with class of trees or not in geospatial images.</p>\n",
        "\n",
        "Satellite: [Sentinel - 2](https://sentinel.esa.int/web/sentinel/missions/sentinel-2)\n",
        "\n",
        "<h3>Context</h3>\n",
        "\n",
        "<p>The content architecture is simple. Each datum has 64x64 resolution and located under <i>tree</i> and <i>notree</i> folders.\n",
        "Each folder (class) has 5200 images. So the total dataset has 10.4K images.</p>\n",
        "\n",
        "To download the dataset, you need to have a kaggle account.\n",
        "\n",
        " - Dataset download link: [Kaggle](https://www.kaggle.com/datasets/mcagriaksoy/trees-in-satellite-imagery/download?datasetVersionNumber=1)\n",
        " - Dataset website: [Kaggle Trees in Satellite Imagery](https://www.kaggle.com/datasets/mcagriaksoy/trees-in-satellite-imagery)\n",
        "\n",
        "<br>\n",
        "\n",
        "<h1>Build Classifier Model with Pre-Trained Model ResNet-50</h1>\n",
        "\n",
        "<h2>Table of Contents</h2>\n",
        "\n",
        "<div class=\"alert alert-block alert-info\" style=\"margin-top: 20px\">\n",
        "  <ul>\n",
        "    <li><a href=\"https://#download_data\"> Unzip Data</a></li>\n",
        "    <li><a href=\"https://#import\"> Import Libraries and Packages </a></li>\n",
        "    <li><a href=\"https://#data_preparation\">Dataset Preparation</a></li>\n",
        "    <li><a href=\"https://#compile_fit\">Compile and Fit ResNet-50 Model</a></li>\n",
        "    <li><a href=\"https://#train_model\">Train the Model</a></li>\n",
        "  </ul>\n",
        "\n",
        "  <br>\n",
        "\n",
        "  <p>Estimated Time Needed: <strong>15 min</strong></p>\n",
        "\n",
        "</div>\n",
        "\n",
        "<hr>\n",
        "\n",
        "<br>"
      ],
      "metadata": {
        "id": "GIjcNBHdF58m"
      }
    },
    {
      "cell_type": "markdown",
      "source": [
        "<h2 id=\"unzip_data\">Unzip Data</h2>\n",
        "<p>After downloading the dataset, we can unzip the file.</p>"
      ],
      "metadata": {
        "id": "H2LVWS3-HXql"
      }
    },
    {
      "cell_type": "code",
      "execution_count": 1,
      "metadata": {
        "id": "hD0WioVPFnvC"
      },
      "outputs": [],
      "source": [
        "!unzip -q archive.zip"
      ]
    },
    {
      "cell_type": "markdown",
      "source": [
        "<h2 id=\"import\">Import Libraries and Packages</h2>\n",
        "\n",
        "<p>The following are the libraries we are going to use for this lab:</p>"
      ],
      "metadata": {
        "id": "JHMcqSMtHcsO"
      }
    },
    {
      "cell_type": "code",
      "source": [
        "import matplotlib.pyplot as plt"
      ],
      "metadata": {
        "id": "fYp2qR_njl5y"
      },
      "execution_count": 16,
      "outputs": []
    },
    {
      "cell_type": "code",
      "source": [
        "import tensorflow as tf"
      ],
      "metadata": {
        "id": "-2pN06ftHgse"
      },
      "execution_count": 17,
      "outputs": []
    },
    {
      "cell_type": "markdown",
      "source": [
        "<p>In this lab, we will be using the Keras library to build an image classifier</p>"
      ],
      "metadata": {
        "id": "Te4f0GBSTOdV"
      }
    },
    {
      "cell_type": "code",
      "source": [
        "import keras\n",
        "from keras.models import Sequential\n",
        "from keras.layers import Dense"
      ],
      "metadata": {
        "id": "jWaosrreGU-L"
      },
      "execution_count": 2,
      "outputs": []
    },
    {
      "cell_type": "markdown",
      "source": [
        "<p>Finally, we will be leveraging the ResNet50 model to build our classifier</p>"
      ],
      "metadata": {
        "id": "4drEqTAfTXMs"
      }
    },
    {
      "cell_type": "code",
      "source": [
        "from tensorflow.keras.applications import ResNet50\n",
        "from tensorflow.keras.applications.resnet50 import preprocess_input"
      ],
      "metadata": {
        "id": "UIo7JQFQGU4Z"
      },
      "execution_count": 3,
      "outputs": []
    },
    {
      "cell_type": "markdown",
      "source": [
        "<h2 id=\"data_preparation\">Dataset Preparation</h2>\n",
        "\n",
        "<p>We are going to separate our dataset as <i>7800</i> files for training and <i>2600</i> files for validation.</p>"
      ],
      "metadata": {
        "id": "2YSmyc2AHlNn"
      }
    },
    {
      "cell_type": "code",
      "source": [
        "num_classes = 1  # Our classification is binary. That's why we wrote as 1.\n",
        "\n",
        "image_resize = (224, 224)\n",
        "\n",
        "batch_size_training = 100\n",
        "batch_size_validation = 100\n",
        "directory = \"/content/Trees in Satellite Imagery\""
      ],
      "metadata": {
        "id": "uHlIFiVjYPk1"
      },
      "execution_count": 4,
      "outputs": []
    },
    {
      "cell_type": "code",
      "source": [
        "train_dataset = tf.keras.utils.image_dataset_from_directory(\n",
        "  directory,\n",
        "  validation_split=0.25,\n",
        "  subset=\"training\",\n",
        "  seed=123,\n",
        "  image_size=image_resize,\n",
        "  batch_size=batch_size_training)\n",
        "\n",
        "validation_dataset = tf.keras.utils.image_dataset_from_directory(\n",
        "  directory,\n",
        "  validation_split=0.25,\n",
        "  subset=\"validation\",\n",
        "  seed=123,\n",
        "  image_size=image_resize,\n",
        "  batch_size=batch_size_validation)"
      ],
      "metadata": {
        "colab": {
          "base_uri": "https://localhost:8080/"
        },
        "id": "2VfW081HH4sA",
        "outputId": "f3991a2b-293e-44f4-bd5b-c8bcd8c85624"
      },
      "execution_count": 5,
      "outputs": [
        {
          "output_type": "stream",
          "name": "stdout",
          "text": [
            "Found 10400 files belonging to 2 classes.\n",
            "Using 7800 files for training.\n",
            "Found 10400 files belonging to 2 classes.\n",
            "Using 2600 files for validation.\n"
          ]
        }
      ]
    },
    {
      "cell_type": "markdown",
      "source": [
        "<h2 id=\"compile_fit\">Compile and Fit ResNet-50 Model</h2>\n",
        "\n",
        "<img src=\"https://miro.medium.com/max/1400/0*9LqUp7XyEx1QNc6A.png\" width=1000 height=300 alt=\"miro.medium.com\"/>\n",
        "\n",
        "<p>ResNet-50 is a convolutional neural network that is 50 layers deep. The network can take the input image having height, width as multiples of 32 and 3 as channel width. For the sake of explanation, we will consider the input size as 224 x 224 x 3. The ResNet-50 model consists of 5 stages each with a convolution and Identity block. Each convolution block has 3 convolution layers and each identity block also has 3 convolution layers. The ResNet-50 has over 23 million trainable parameters.</p>\n",
        "\n",
        "Reference: [Priya Dwivedi](https://towardsdatascience.com/understanding-and-coding-a-resnet-in-keras-446d7ff84d33?gi=6a949f5c176c)\n",
        "\n",
        "<p>In this section, we will start building our model. We will use the Sequential model class from Keras.</p>"
      ],
      "metadata": {
        "id": "FNb7w2TLIsNs"
      }
    },
    {
      "cell_type": "code",
      "source": [
        "model = Sequential()"
      ],
      "metadata": {
        "id": "KRTBv3rzI2gl"
      },
      "execution_count": 6,
      "outputs": []
    },
    {
      "cell_type": "markdown",
      "source": [
        "<p>Next, we will add the ResNet-50 pre-trained model to out model. However, note that we don't want to include the top layer or the output layer of the pre-trained model. We actually want to define our own output layer and train it so that it is optimized for our image dataset. In order to leave out the output layer of the pre-trained model, we will use the argument <i>include_top</i> and set it to <b>False</b>.</p>"
      ],
      "metadata": {
        "id": "8dUzedZdaV6O"
      }
    },
    {
      "cell_type": "code",
      "source": [
        "model.add(ResNet50(\n",
        "    include_top=False,\n",
        "    pooling='avg',\n",
        "    weights='imagenet',\n",
        "    ))"
      ],
      "metadata": {
        "id": "UyFhKNjDL9ND"
      },
      "execution_count": 7,
      "outputs": []
    },
    {
      "cell_type": "markdown",
      "source": [
        "<p>Then, we will define our output layer as a <b>Dense</b> layer.</p>"
      ],
      "metadata": {
        "id": "WhTY3jFpI7gJ"
      }
    },
    {
      "cell_type": "code",
      "source": [
        "model.add(Dense(num_classes, activation='sigmoid'))"
      ],
      "metadata": {
        "id": "hf9K57VaJCxM"
      },
      "execution_count": 8,
      "outputs": []
    },
    {
      "cell_type": "markdown",
      "source": [
        "<p>You can access the model's layers using the <i>layers</i> attribute of our model object.</p>"
      ],
      "metadata": {
        "id": "mCjWv5ylIfD6"
      }
    },
    {
      "cell_type": "code",
      "source": [
        "model.layers"
      ],
      "metadata": {
        "id": "BHKaMjx0JP-0",
        "colab": {
          "base_uri": "https://localhost:8080/"
        },
        "outputId": "84f7b57e-5ec1-4819-e11a-4cdbd925a896"
      },
      "execution_count": 9,
      "outputs": [
        {
          "output_type": "execute_result",
          "data": {
            "text/plain": [
              "[<keras.engine.functional.Functional at 0x7f89a06e8d90>,\n",
              " <keras.layers.core.dense.Dense at 0x7f89a04889d0>]"
            ]
          },
          "metadata": {},
          "execution_count": 9
        }
      ]
    },
    {
      "cell_type": "markdown",
      "source": [
        "<p>You can see that our model is composed of two sets of layers. The first set is the layers pertaining to ResNet50 and the second set is a single layer, which is our Dense layer that we defined above.</p>"
      ],
      "metadata": {
        "id": "kkEDaU-tJis3"
      }
    },
    {
      "cell_type": "markdown",
      "source": [
        "<p>Print out the ResNet-50 model.</p>"
      ],
      "metadata": {
        "id": "o9uSzWouEc8k"
      }
    },
    {
      "cell_type": "code",
      "source": [
        "model.layers[0].layers"
      ],
      "metadata": {
        "colab": {
          "base_uri": "https://localhost:8080/"
        },
        "id": "33oG3RWJEfO1",
        "outputId": "9a0fa9cf-ae34-42db-87bb-0636c4b849fa"
      },
      "execution_count": 10,
      "outputs": [
        {
          "output_type": "execute_result",
          "data": {
            "text/plain": [
              "[<keras.engine.input_layer.InputLayer at 0x7f89a7ddcb90>,\n",
              " <keras.layers.convolutional.ZeroPadding2D at 0x7f89a4697d50>,\n",
              " <keras.layers.convolutional.Conv2D at 0x7f89a095c110>,\n",
              " <keras.layers.normalization.batch_normalization.BatchNormalization at 0x7f89a095ccd0>,\n",
              " <keras.layers.core.activation.Activation at 0x7f89a09ee190>,\n",
              " <keras.layers.convolutional.ZeroPadding2D at 0x7f89a0a08a50>,\n",
              " <keras.layers.pooling.MaxPooling2D at 0x7f89a08fd750>,\n",
              " <keras.layers.convolutional.Conv2D at 0x7f89a090f050>,\n",
              " <keras.layers.normalization.batch_normalization.BatchNormalization at 0x7f89a09164d0>,\n",
              " <keras.layers.core.activation.Activation at 0x7f89a090b090>,\n",
              " <keras.layers.convolutional.Conv2D at 0x7f89a08fd1d0>,\n",
              " <keras.layers.normalization.batch_normalization.BatchNormalization at 0x7f89a089b890>,\n",
              " <keras.layers.core.activation.Activation at 0x7f89a08fd210>,\n",
              " <keras.layers.convolutional.Conv2D at 0x7f89a09ee950>,\n",
              " <keras.layers.convolutional.Conv2D at 0x7f89a08a1210>,\n",
              " <keras.layers.normalization.batch_normalization.BatchNormalization at 0x7f89a08fd710>,\n",
              " <keras.layers.normalization.batch_normalization.BatchNormalization at 0x7f89a08ad510>,\n",
              " <keras.layers.merge.Add at 0x7f89a08a75d0>,\n",
              " <keras.layers.core.activation.Activation at 0x7f89a08a4f90>,\n",
              " <keras.layers.convolutional.Conv2D at 0x7f89a08b9e50>,\n",
              " <keras.layers.normalization.batch_normalization.BatchNormalization at 0x7f89a08c0d10>,\n",
              " <keras.layers.core.activation.Activation at 0x7f89a08b3b90>,\n",
              " <keras.layers.convolutional.Conv2D at 0x7f89a08c5490>,\n",
              " <keras.layers.normalization.batch_normalization.BatchNormalization at 0x7f89a08d1090>,\n",
              " <keras.layers.core.activation.Activation at 0x7f89a08c7290>,\n",
              " <keras.layers.convolutional.Conv2D at 0x7f89a08c5f90>,\n",
              " <keras.layers.normalization.batch_normalization.BatchNormalization at 0x7f89a0864390>,\n",
              " <keras.layers.merge.Add at 0x7f89a08d6c90>,\n",
              " <keras.layers.core.activation.Activation at 0x7f89a08d7850>,\n",
              " <keras.layers.convolutional.Conv2D at 0x7f89a0870750>,\n",
              " <keras.layers.normalization.batch_normalization.BatchNormalization at 0x7f89a0877710>,\n",
              " <keras.layers.core.activation.Activation at 0x7f89a0869310>,\n",
              " <keras.layers.convolutional.Conv2D at 0x7f89a08d7450>,\n",
              " <keras.layers.normalization.batch_normalization.BatchNormalization at 0x7f89a0886cd0>,\n",
              " <keras.layers.core.activation.Activation at 0x7f89a087f710>,\n",
              " <keras.layers.convolutional.Conv2D at 0x7f89a0889250>,\n",
              " <keras.layers.normalization.batch_normalization.BatchNormalization at 0x7f89a08976d0>,\n",
              " <keras.layers.merge.Add at 0x7f89a0893e50>,\n",
              " <keras.layers.core.activation.Activation at 0x7f89a088e910>,\n",
              " <keras.layers.convolutional.Conv2D at 0x7f89a330ddd0>,\n",
              " <keras.layers.normalization.batch_normalization.BatchNormalization at 0x7f89a083dbd0>,\n",
              " <keras.layers.core.activation.Activation at 0x7f89a0833510>,\n",
              " <keras.layers.convolutional.Conv2D at 0x7f89a0834f50>,\n",
              " <keras.layers.normalization.batch_normalization.BatchNormalization at 0x7f89a0843cd0>,\n",
              " <keras.layers.core.activation.Activation at 0x7f89a084ea10>,\n",
              " <keras.layers.convolutional.Conv2D at 0x7f89a258d510>,\n",
              " <keras.layers.convolutional.Conv2D at 0x7f89a07dd9d0>,\n",
              " <keras.layers.normalization.batch_normalization.BatchNormalization at 0x7f89a082c050>,\n",
              " <keras.layers.normalization.batch_normalization.BatchNormalization at 0x7f89a07e5210>,\n",
              " <keras.layers.merge.Add at 0x7f89a084e390>,\n",
              " <keras.layers.core.activation.Activation at 0x7f89a07e2f90>,\n",
              " <keras.layers.convolutional.Conv2D at 0x7f89a082c290>,\n",
              " <keras.layers.normalization.batch_normalization.BatchNormalization at 0x7f89a087f590>,\n",
              " <keras.layers.core.activation.Activation at 0x7f89a0820dd0>,\n",
              " <keras.layers.convolutional.Conv2D at 0x7f89a08ea4d0>,\n",
              " <keras.layers.normalization.batch_normalization.BatchNormalization at 0x7f89a08d6150>,\n",
              " <keras.layers.core.activation.Activation at 0x7f89a0864510>,\n",
              " <keras.layers.convolutional.Conv2D at 0x7f89a0843110>,\n",
              " <keras.layers.normalization.batch_normalization.BatchNormalization at 0x7f89a07e9410>,\n",
              " <keras.layers.merge.Add at 0x7f89a08ad910>,\n",
              " <keras.layers.core.activation.Activation at 0x7f89a07eedd0>,\n",
              " <keras.layers.convolutional.Conv2D at 0x7f89a07f1f50>,\n",
              " <keras.layers.normalization.batch_normalization.BatchNormalization at 0x7f89a07f4350>,\n",
              " <keras.layers.core.activation.Activation at 0x7f89a07efcd0>,\n",
              " <keras.layers.convolutional.Conv2D at 0x7f89a08ad990>,\n",
              " <keras.layers.normalization.batch_normalization.BatchNormalization at 0x7f89a0805610>,\n",
              " <keras.layers.core.activation.Activation at 0x7f89a07fe5d0>,\n",
              " <keras.layers.convolutional.Conv2D at 0x7f89a080a150>,\n",
              " <keras.layers.normalization.batch_normalization.BatchNormalization at 0x7f89a07fa150>,\n",
              " <keras.layers.merge.Add at 0x7f89a08127d0>,\n",
              " <keras.layers.core.activation.Activation at 0x7f89a080bd10>,\n",
              " <keras.layers.convolutional.Conv2D at 0x7f89a07a4a10>,\n",
              " <keras.layers.normalization.batch_normalization.BatchNormalization at 0x7f89a07ac9d0>,\n",
              " <keras.layers.core.activation.Activation at 0x7f89a07a1350>,\n",
              " <keras.layers.convolutional.Conv2D at 0x7f89a080b210>,\n",
              " <keras.layers.normalization.batch_normalization.BatchNormalization at 0x7f89a07bb510>,\n",
              " <keras.layers.core.activation.Activation at 0x7f89a07b2090>,\n",
              " <keras.layers.convolutional.Conv2D at 0x7f89a07afe50>,\n",
              " <keras.layers.normalization.batch_normalization.BatchNormalization at 0x7f89a07d10d0>,\n",
              " <keras.layers.merge.Add at 0x7f89a07bfa90>,\n",
              " <keras.layers.core.activation.Activation at 0x7f89a07c6dd0>,\n",
              " <keras.layers.convolutional.Conv2D at 0x7f89a07d4dd0>,\n",
              " <keras.layers.normalization.batch_normalization.BatchNormalization at 0x7f89a0768ad0>,\n",
              " <keras.layers.core.activation.Activation at 0x7f89a0768dd0>,\n",
              " <keras.layers.convolutional.Conv2D at 0x7f89a0775b50>,\n",
              " <keras.layers.normalization.batch_normalization.BatchNormalization at 0x7f89a0779cd0>,\n",
              " <keras.layers.core.activation.Activation at 0x7f89a07840d0>,\n",
              " <keras.layers.convolutional.Conv2D at 0x7f89a075e310>,\n",
              " <keras.layers.convolutional.Conv2D at 0x7f89a077a6d0>,\n",
              " <keras.layers.normalization.batch_normalization.BatchNormalization at 0x7f89a07646d0>,\n",
              " <keras.layers.normalization.batch_normalization.BatchNormalization at 0x7f89a07d44d0>,\n",
              " <keras.layers.merge.Add at 0x7f89a07a1b50>,\n",
              " <keras.layers.core.activation.Activation at 0x7f89a084ed10>,\n",
              " <keras.layers.convolutional.Conv2D at 0x7f89a0812090>,\n",
              " <keras.layers.normalization.batch_normalization.BatchNormalization at 0x7f89a080a4d0>,\n",
              " <keras.layers.core.activation.Activation at 0x7f89a09eef90>,\n",
              " <keras.layers.convolutional.Conv2D at 0x7f89a07f1410>,\n",
              " <keras.layers.normalization.batch_normalization.BatchNormalization at 0x7f89a0820310>,\n",
              " <keras.layers.core.activation.Activation at 0x7f89a078e090>,\n",
              " <keras.layers.convolutional.Conv2D at 0x7f89a08973d0>,\n",
              " <keras.layers.normalization.batch_normalization.BatchNormalization at 0x7f89a0790dd0>,\n",
              " <keras.layers.merge.Add at 0x7f89a071c190>,\n",
              " <keras.layers.core.activation.Activation at 0x7f89a071c890>,\n",
              " <keras.layers.convolutional.Conv2D at 0x7f89a071fd50>,\n",
              " <keras.layers.normalization.batch_normalization.BatchNormalization at 0x7f89a072a0d0>,\n",
              " <keras.layers.core.activation.Activation at 0x7f89a072d3d0>,\n",
              " <keras.layers.convolutional.Conv2D at 0x7f89a07321d0>,\n",
              " <keras.layers.normalization.batch_normalization.BatchNormalization at 0x7f89a0736910>,\n",
              " <keras.layers.core.activation.Activation at 0x7f89a073e7d0>,\n",
              " <keras.layers.convolutional.Conv2D at 0x7f89a073a6d0>,\n",
              " <keras.layers.normalization.batch_normalization.BatchNormalization at 0x7f89a0749950>,\n",
              " <keras.layers.merge.Add at 0x7f89a0752390>,\n",
              " <keras.layers.core.activation.Activation at 0x7f89a0752e10>,\n",
              " <keras.layers.convolutional.Conv2D at 0x7f89a06dd890>,\n",
              " <keras.layers.normalization.batch_normalization.BatchNormalization at 0x7f89a06e1bd0>,\n",
              " <keras.layers.core.activation.Activation at 0x7f89a06e5350>,\n",
              " <keras.layers.convolutional.Conv2D at 0x7f89a06e8450>,\n",
              " <keras.layers.normalization.batch_normalization.BatchNormalization at 0x7f89a06f4450>,\n",
              " <keras.layers.core.activation.Activation at 0x7f89a06fc510>,\n",
              " <keras.layers.convolutional.Conv2D at 0x7f89a06fc910>,\n",
              " <keras.layers.normalization.batch_normalization.BatchNormalization at 0x7f89a0705490>,\n",
              " <keras.layers.merge.Add at 0x7f89a070e490>,\n",
              " <keras.layers.core.activation.Activation at 0x7f89a070ee50>,\n",
              " <keras.layers.convolutional.Conv2D at 0x7f89a0719410>,\n",
              " <keras.layers.normalization.batch_normalization.BatchNormalization at 0x7f89a069c750>,\n",
              " <keras.layers.core.activation.Activation at 0x7f89a069cb90>,\n",
              " <keras.layers.convolutional.Conv2D at 0x7f89a06a1510>,\n",
              " <keras.layers.normalization.batch_normalization.BatchNormalization at 0x7f89a06acf90>,\n",
              " <keras.layers.core.activation.Activation at 0x7f89a06b4290>,\n",
              " <keras.layers.convolutional.Conv2D at 0x7f89a06b0b50>,\n",
              " <keras.layers.normalization.batch_normalization.BatchNormalization at 0x7f89a0710fd0>,\n",
              " <keras.layers.merge.Add at 0x7f89a06fc810>,\n",
              " <keras.layers.core.activation.Activation at 0x7f89a06e8fd0>,\n",
              " <keras.layers.convolutional.Conv2D at 0x7f89a0756350>,\n",
              " <keras.layers.normalization.batch_normalization.BatchNormalization at 0x7f89a07439d0>,\n",
              " <keras.layers.core.activation.Activation at 0x7f89a071f650>,\n",
              " <keras.layers.convolutional.Conv2D at 0x7f89a0732250>,\n",
              " <keras.layers.normalization.batch_normalization.BatchNormalization at 0x7f89a0790c10>,\n",
              " <keras.layers.core.activation.Activation at 0x7f89a0812890>,\n",
              " <keras.layers.convolutional.Conv2D at 0x7f89a07ee410>,\n",
              " <keras.layers.normalization.batch_normalization.BatchNormalization at 0x7f89a07a1e10>,\n",
              " <keras.layers.merge.Add at 0x7f89a06c16d0>,\n",
              " <keras.layers.core.activation.Activation at 0x7f89a085f190>,\n",
              " <keras.layers.convolutional.Conv2D at 0x7f89a06c7c50>,\n",
              " <keras.layers.normalization.batch_normalization.BatchNormalization at 0x7f89a06c1ed0>,\n",
              " <keras.layers.core.activation.Activation at 0x7f89a065a5d0>,\n",
              " <keras.layers.convolutional.Conv2D at 0x7f89a065eb50>,\n",
              " <keras.layers.normalization.batch_normalization.BatchNormalization at 0x7f89a066b090>,\n",
              " <keras.layers.core.activation.Activation at 0x7f89a0664810>,\n",
              " <keras.layers.convolutional.Conv2D at 0x7f89a06c55d0>,\n",
              " <keras.layers.convolutional.Conv2D at 0x7f89a0675e50>,\n",
              " <keras.layers.normalization.batch_normalization.BatchNormalization at 0x7f89a06c7910>,\n",
              " <keras.layers.normalization.batch_normalization.BatchNormalization at 0x7f89a0691090>,\n",
              " <keras.layers.merge.Add at 0x7f89a066fcd0>,\n",
              " <keras.layers.core.activation.Activation at 0x7f89a0683790>,\n",
              " <keras.layers.convolutional.Conv2D at 0x7f89a06993d0>,\n",
              " <keras.layers.normalization.batch_normalization.BatchNormalization at 0x7f89a061e710>,\n",
              " <keras.layers.core.activation.Activation at 0x7f89a067ddd0>,\n",
              " <keras.layers.convolutional.Conv2D at 0x7f89a067ff10>,\n",
              " <keras.layers.normalization.batch_normalization.BatchNormalization at 0x7f89a0630050>,\n",
              " <keras.layers.core.activation.Activation at 0x7f89a062ac10>,\n",
              " <keras.layers.convolutional.Conv2D at 0x7f89a0624d50>,\n",
              " <keras.layers.normalization.batch_normalization.BatchNormalization at 0x7f89a063b410>,\n",
              " <keras.layers.merge.Add at 0x7f89a0637550>,\n",
              " <keras.layers.core.activation.Activation at 0x7f89a0635650>,\n",
              " <keras.layers.convolutional.Conv2D at 0x7f89a0649d90>,\n",
              " <keras.layers.normalization.batch_normalization.BatchNormalization at 0x7f89a064ee50>,\n",
              " <keras.layers.core.activation.Activation at 0x7f89a0642550>,\n",
              " <keras.layers.convolutional.Conv2D at 0x7f89a0637210>,\n",
              " <keras.layers.normalization.batch_normalization.BatchNormalization at 0x7f89a0683b90>,\n",
              " <keras.layers.core.activation.Activation at 0x7f89a0622bd0>,\n",
              " <keras.layers.convolutional.Conv2D at 0x7f89a062ac90>,\n",
              " <keras.layers.normalization.batch_normalization.BatchNormalization at 0x7f89a06cc7d0>,\n",
              " <keras.layers.merge.Add at 0x7f89a065e050>,\n",
              " <keras.layers.core.activation.Activation at 0x7f89a06641d0>,\n",
              " <keras.layers.pooling.GlobalAveragePooling2D at 0x7f89a0906710>]"
            ]
          },
          "metadata": {},
          "execution_count": 10
        }
      ]
    },
    {
      "cell_type": "markdown",
      "source": [
        "<p>Since the ResNet50 model has already been trained, then we want to tell our model not to bother with training the ResNet part</p>"
      ],
      "metadata": {
        "id": "XNztBljbJ4Ky"
      }
    },
    {
      "cell_type": "code",
      "source": [
        "model.layers[0].trainable = False"
      ],
      "metadata": {
        "id": "AzlzU6ttJyS8"
      },
      "execution_count": 11,
      "outputs": []
    },
    {
      "cell_type": "markdown",
      "source": [
        "<p>And now using the <i>summary</i> attribute of the model.</p>"
      ],
      "metadata": {
        "id": "J3KpeGJ8KcAs"
      }
    },
    {
      "cell_type": "code",
      "source": [
        "model.summary()"
      ],
      "metadata": {
        "id": "aAo3dWaSKnXV",
        "colab": {
          "base_uri": "https://localhost:8080/"
        },
        "outputId": "77cefcf6-df05-4ecd-b958-1aa70943d802"
      },
      "execution_count": 12,
      "outputs": [
        {
          "output_type": "stream",
          "name": "stdout",
          "text": [
            "Model: \"sequential\"\n",
            "_________________________________________________________________\n",
            " Layer (type)                Output Shape              Param #   \n",
            "=================================================================\n",
            " resnet50 (Functional)       (None, 2048)              23587712  \n",
            "                                                                 \n",
            " dense (Dense)               (None, 1)                 2049      \n",
            "                                                                 \n",
            "=================================================================\n",
            "Total params: 23,589,761\n",
            "Trainable params: 2,049\n",
            "Non-trainable params: 23,587,712\n",
            "_________________________________________________________________\n"
          ]
        }
      ]
    },
    {
      "cell_type": "markdown",
      "source": [
        "<p>Next we compile our model using the <b>adam</b> optimizer.</p>"
      ],
      "metadata": {
        "id": "4iOS7SXAKvSn"
      }
    },
    {
      "cell_type": "code",
      "source": [
        "model.compile(optimizer='adam', loss='binary_crossentropy', metrics=['accuracy'])"
      ],
      "metadata": {
        "id": "4_YJwi2Ubhfu"
      },
      "execution_count": 13,
      "outputs": []
    },
    {
      "cell_type": "markdown",
      "source": [
        "<h2 id=\"train_model\">Train the Model</h2>"
      ],
      "metadata": {
        "id": "8nh4mi9hJrao"
      }
    },
    {
      "cell_type": "markdown",
      "source": [
        "<p>We will need to define how many steps compose an epoch. Typically, that is the number of images divided by the batch size. Therefore, we define our steps per epoch as follows:</p>"
      ],
      "metadata": {
        "id": "-YhZwVVZbqyn"
      }
    },
    {
      "cell_type": "code",
      "source": [
        "steps_per_epoch_training = len(train_dataset)\n",
        "steps_per_epoch_validation = len(validation_dataset)\n",
        "num_epochs = 2"
      ],
      "metadata": {
        "id": "n6FDGHKXKxfN"
      },
      "execution_count": 14,
      "outputs": []
    },
    {
      "cell_type": "markdown",
      "source": [
        "<p>Finally, we are ready to start training our model.</p>"
      ],
      "metadata": {
        "id": "97MhcP4Jb5Cx"
      }
    },
    {
      "cell_type": "code",
      "source": [
        "import time\n",
        "start = time.time()\n",
        "\n",
        "history = model.fit(\n",
        "  train_dataset,\n",
        "  validation_data=validation_dataset,\n",
        "  epochs=num_epochs\n",
        ")\n",
        "\n",
        "end = time.time()\n",
        "\n",
        "elapsed_time = end - start\n",
        "\n",
        "print(f\"Elapsed Time:{elapsed_time}s\")"
      ],
      "metadata": {
        "colab": {
          "base_uri": "https://localhost:8080/"
        },
        "id": "fDoq277iHzRO",
        "outputId": "0184329f-2dfa-4fa1-a251-5fc9baaf07c2"
      },
      "execution_count": 15,
      "outputs": [
        {
          "output_type": "stream",
          "name": "stdout",
          "text": [
            "Epoch 1/2\n",
            "78/78 [==============================] - 1571s 20s/step - loss: 0.2401 - accuracy: 0.9041 - val_loss: 0.1114 - val_accuracy: 0.9696\n",
            "Epoch 2/2\n",
            "78/78 [==============================] - 1558s 20s/step - loss: 0.0862 - accuracy: 0.9772 - val_loss: 0.0769 - val_accuracy: 0.9781\n",
            "Elapsed Time:3167.705938100815s\n"
          ]
        }
      ]
    },
    {
      "cell_type": "code",
      "source": [
        "# Function taken from https://www.kaggle.com/code/lucasarielsaavedra/satellite-images-classification-94-accuracy\n",
        "\n",
        "def plot_history(history):\n",
        "    acc = history.history['accuracy']\n",
        "    val_acc = history.history['val_accuracy']\n",
        "\n",
        "    loss = history.history['loss']\n",
        "    val_loss = history.history['val_loss']\n",
        "\n",
        "    plt.figure(figsize=(20, 8))\n",
        "    plt.subplot(1, 2, 1)\n",
        "    plt.plot(range(len(acc)), acc, label='Training Accuracy')\n",
        "    plt.plot(range(len(val_acc)), val_acc, label='Validation Accuracy')\n",
        "    plt.legend(loc='lower right')\n",
        "    plt.title('Training and Validation Accuracy')\n",
        "\n",
        "    plt.subplot(1, 2, 2)\n",
        "    plt.plot(range(len(loss)), loss, label='Training Loss')\n",
        "    plt.plot(range(len(val_loss)), val_loss, label='Validation Loss')\n",
        "    plt.legend(loc='upper right')\n",
        "    plt.title('Training and Validation Loss')\n",
        "    plt.show()"
      ],
      "metadata": {
        "id": "H7Se0sDMg6Wg"
      },
      "execution_count": 18,
      "outputs": []
    },
    {
      "cell_type": "code",
      "source": [
        "num_parameters_time = {}\n",
        "num_parameters_accuracy = {}\n",
        "num_parameters = {}\n",
        "\n",
        "num_parameters[\"Base\"] = 23589761\n",
        "num_parameters_time[\"Base\"] = elapsed_time\n",
        "num_parameters_accuracy[\"Base\"] = history.history[\"val_accuracy\"][-1]"
      ],
      "metadata": {
        "id": "QcKQPz2XgniR"
      },
      "execution_count": 19,
      "outputs": []
    },
    {
      "cell_type": "code",
      "source": [
        "plot_history(history)"
      ],
      "metadata": {
        "colab": {
          "base_uri": "https://localhost:8080/",
          "height": 499
        },
        "id": "0Cj-PYZxg8Dc",
        "outputId": "5d8cedd2-3b43-4bfb-862f-936b401df53a"
      },
      "execution_count": 20,
      "outputs": [
        {
          "output_type": "display_data",
          "data": {
            "text/plain": [
              "<Figure size 1440x576 with 2 Axes>"
            ],
            "image/png": "[encoded data removed]"
          },
          "metadata": {
            "needs_background": "light"
          }
        }
      ]
    },
    {
      "cell_type": "markdown",
      "source": [
        "<p>Now that the model is trained, you are ready to start using it to classify images. Since training can take a long time when building deep learning models, it is always a good idea to save your model once the training is complete if you believe you will be using the model again later.</p>\n",
        "\n",
        "<br>\n",
        "\n",
        "<p>Save the model to as <b>classifier_resnet_model.h5</b>:</p>"
      ],
      "metadata": {
        "id": "kALEoh2egWIv"
      }
    },
    {
      "cell_type": "code",
      "source": [
        "model.save('classifier_resnet_model.h5')"
      ],
      "metadata": {
        "id": "PlP4S7XURXHh"
      },
      "execution_count": 21,
      "outputs": []
    },
    {
      "cell_type": "markdown",
      "source": [
        "<p>We can load our model with following codes:</p>"
      ],
      "metadata": {
        "id": "6Vmk3EGQooOg"
      }
    },
    {
      "cell_type": "code",
      "source": [
        "#from keras.models import load_model\n",
        "#model_resnet_50 = load_model('classifier_resnet_model.h5')"
      ],
      "metadata": {
        "id": "HLaM0GxXLzyy"
      },
      "execution_count": null,
      "outputs": []
    },
    {
      "cell_type": "code",
      "source": [
        "#model_resnet_50.summary()"
      ],
      "metadata": {
        "id": "8owCqbvKof6d"
      },
      "execution_count": null,
      "outputs": []
    },
    {
      "cell_type": "markdown",
      "source": [
        "<hr>\n",
        "\n",
        "<h1>Contact Me<h1>\n",
        "\n",
        "<p>If you have something to say to me please contact me:<p>\n",
        "\n",
        "*   Twitter: https://twitter.com/Doguilmak\n",
        "*   Mail address: doguilmak@gmail.com"
      ],
      "metadata": {
        "id": "Nwk6d3_6MJIn"
      }
    }
  ]
}