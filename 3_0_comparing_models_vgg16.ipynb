{
  "nbformat": 4,
  "nbformat_minor": 0,
  "metadata": {
    "colab": {
      "name": "3_0_comparing_models_vgg16.ipynb",
      "provenance": [],
      "collapsed_sections": []
    },
    "kernelspec": {
      "name": "python3",
      "display_name": "Python 3"
    },
    "language_info": {
      "name": "python"
    }
  },
  "cells": [
    {
      "cell_type": "markdown",
      "source": [
        "**<h1 align=center><font size = 5>Classify Trees in Satellite Imagery</font></h1>**\n",
        "<img src=\"https://eoimages.gsfc.nasa.gov/images/imagerecords/40000/40228/moorhead_tm5_2009253.jpg\" width=1000 height=400 alt=\"esto.nasa.gov\"/>\n",
        "\n",
        "<br>\n",
        "\n",
        "<h2>Objective</h2>\n",
        "\n",
        "<ul>\n",
        "  <li> How to download and pre-process the <b>Trees in Satellite Imagery</b> dataset.</li>\n",
        "</ul> \n",
        "\n",
        "<p>Tree detection can be used for applications such as vegetation management, forestry, urban planning, etc. Tree identifications are very important in terms of impending famine and forest fires.</p>\n",
        "\n",
        "<br>\n",
        "\n",
        "<h2>About Dataset</h2>\n",
        "\n",
        "<p>This dataset is being used for classifying the land with class of trees or not in geospatial images.</p>\n",
        "\n",
        "Satellite: [Sentinel - 2](https://sentinel.esa.int/web/sentinel/missions/sentinel-2)\n",
        "\n",
        "<h3>Context</h3>\n",
        "\n",
        "<p>The content architecture is simple. Each datum has 64x64 resolution and located under <i>tree</i> and <i>notree</i> folders.\n",
        "Each folder (class) has 5200 images. So the total dataset has 10.4K images.</p>\n",
        "\n",
        "To download the dataset, you need to have a kaggle account.\n",
        "\n",
        " - Dataset download link: [Kaggle](https://www.kaggle.com/datasets/mcagriaksoy/trees-in-satellite-imagery/download?datasetVersionNumber=1)\n",
        " - Dataset website: [Kaggle Trees in Satellite Imagery](https://www.kaggle.com/datasets/mcagriaksoy/trees-in-satellite-imagery)\n",
        "\n",
        "<br>\n",
        "\n",
        "<h2>Table of Contents</h2>\n",
        "\n",
        "<div class=\"alert alert-block alert-info\" style=\"margin-top: 20px\">\n",
        "  <ul>\n",
        "      <li><a href=\"https://#unzip_data\"> Unzip data</a></li>\n",
        "      <li><a href=\"https://#libraries\"> Import Libraries and Packages </a></li>\n",
        "      <li><a href=\"https://#image_data_generator\">Construct an ImageDataGenerator Instance</a></li>\n",
        "      <li><a href=\"https://#vis_batch_img\">Visualize Batches of Images</a></li>\n",
        "  </ul>\n",
        "\n",
        "  <br>\n",
        "\n",
        "  <p>Estimated Time Needed: <strong>190 min</strong></p>\n",
        "\n",
        "</div>\n",
        "\n",
        "<hr>\n",
        "\n",
        "<br>"
      ],
      "metadata": {
        "id": "4xjRYXFLsBLh"
      }
    },
    {
      "cell_type": "markdown",
      "source": [
        "<h2 id=\"unzip_data\">Unzip Data</h2>\n",
        "<p>After downloading the dataset, we can unzip the file.</p>"
      ],
      "metadata": {
        "id": "chxJGBpJvaAE"
      }
    },
    {
      "cell_type": "code",
      "execution_count": 1,
      "metadata": {
        "id": "pVhIPEtyne04"
      },
      "outputs": [],
      "source": [
        "!unzip -q archive.zip"
      ]
    },
    {
      "cell_type": "markdown",
      "source": [
        "<h2 id=\"libraries\">Import Libraries and Packages</h2>\n",
        "\n",
        "<p>Before we proceed, let's import the libraries and packages that we will need to complete the rest of this lab.</p>"
      ],
      "metadata": {
        "id": "bLZ2kwr-qQ16"
      }
    },
    {
      "cell_type": "code",
      "source": [
        "from keras.preprocessing.image import ImageDataGenerator\n",
        "import tensorflow as tf\n",
        "from keras.models import Sequential\n",
        "from keras.layers import Dense\n",
        "from tensorflow.keras.applications import VGG16\n",
        "from keras.applications.vgg16 import preprocess_input\n",
        "import warnings\n",
        "warnings.filterwarnings(\"ignore\")"
      ],
      "metadata": {
        "id": "VSw6qJn5paeM"
      },
      "execution_count": 1,
      "outputs": []
    },
    {
      "cell_type": "code",
      "source": [
        "num_classes = 1  # Our classification is binary. That's why we wrote as 1.\n",
        "\n",
        "image_resize = (224, 224) # Our images are 64 x 64 but VGG16 was originally trained on 224 × 224\n",
        "\n",
        "batch_size_training = 100\n",
        "batch_size_validation = 100\n",
        "directory = \"/content/Trees in Satellite Imagery\""
      ],
      "metadata": {
        "id": "gyAg7P9Um14Q"
      },
      "execution_count": 2,
      "outputs": []
    },
    {
      "cell_type": "markdown",
      "source": [
        "<h2 id=\"data_preparation\">Dataset Preparation</h2>\n",
        "\n",
        "<p>We are going to separate our dataset as <i>7800</i> files for training and <i>2600</i> files for validation.</p>"
      ],
      "metadata": {
        "id": "Zm3XZ4rooAvl"
      }
    },
    {
      "cell_type": "code",
      "source": [
        "train_dataset = tf.keras.utils.image_dataset_from_directory(\n",
        "  directory,\n",
        "  validation_split=0.25,\n",
        "  subset=\"training\",\n",
        "  seed=123,\n",
        "  image_size=image_resize,\n",
        "  batch_size=batch_size_training)\n",
        "\n",
        "validation_dataset = tf.keras.utils.image_dataset_from_directory(\n",
        "  directory,\n",
        "  validation_split=0.25,\n",
        "  subset=\"validation\",\n",
        "  seed=123,\n",
        "  image_size=image_resize,\n",
        "  batch_size=batch_size_validation)"
      ],
      "metadata": {
        "id": "6mhDTaRupegN",
        "colab": {
          "base_uri": "https://localhost:8080/"
        },
        "outputId": "8ef9f2e2-e6ad-4447-ee5b-2ea5977e5e03"
      },
      "execution_count": 3,
      "outputs": [
        {
          "output_type": "stream",
          "name": "stdout",
          "text": [
            "Found 10400 files belonging to 2 classes.\n",
            "Using 7800 files for training.\n",
            "Found 10400 files belonging to 2 classes.\n",
            "Using 2600 files for validation.\n"
          ]
        }
      ]
    },
    {
      "cell_type": "code",
      "source": [
        "valdation_batches = tf.data.experimental.cardinality(validation_dataset)\n",
        "print('Number of validation batches: %d' % tf.data.experimental.cardinality(validation_dataset))\n",
        "\n",
        "test_batches = valdation_batches // 5\n",
        "test_dataset = validation_dataset.take(test_batches)\n",
        "print('Number of test batches: %d' % tf.data.experimental.cardinality(test_dataset))"
      ],
      "metadata": {
        "colab": {
          "base_uri": "https://localhost:8080/"
        },
        "id": "6CQacxLMrvgf",
        "outputId": "3aa51b7e-9721-4b6e-9f20-469142c95462"
      },
      "execution_count": 4,
      "outputs": [
        {
          "output_type": "stream",
          "name": "stdout",
          "text": [
            "Number of validation batches: 26\n",
            "Number of test batches: 5\n"
          ]
        }
      ]
    },
    {
      "cell_type": "markdown",
      "source": [
        "<h2 id=\"compile_fit\">Compile and Fit VGG16 Model</h2>\n",
        "\n",
        "<p>VGG16 is a convolution neural net (CNN) architecture which was used to win ILSVR(Imagenet) competition in 2014. It is considered to be one of the excellent vision model architecture till date. In this section, we will start building our model. We will use the Sequential model class from Keras.</p></p>"
      ],
      "metadata": {
        "id": "P5OtGbdvoHHv"
      }
    },
    {
      "cell_type": "code",
      "source": [
        "model_vgg16 = Sequential()"
      ],
      "metadata": {
        "id": "k33Mb_NYmuhc"
      },
      "execution_count": 5,
      "outputs": []
    },
    {
      "cell_type": "markdown",
      "source": [
        "<p>Then, we will define our output layer as a <b>Dense</b> layer.</p>"
      ],
      "metadata": {
        "id": "lIwvobm5onjU"
      }
    },
    {
      "cell_type": "code",
      "source": [
        "model_vgg16.add(VGG16(include_top=False, pooling=\"avg\", weights=\"imagenet\"))\n",
        "model_vgg16.add(Dense(num_classes, activation=\"softmax\"))"
      ],
      "metadata": {
        "id": "lzdx1mX3c5RK"
      },
      "execution_count": 6,
      "outputs": []
    },
    {
      "cell_type": "code",
      "source": [
        "model_vgg16.layers[0].trainable = False"
      ],
      "metadata": {
        "id": "CGbAnO5Yof6B"
      },
      "execution_count": 7,
      "outputs": []
    },
    {
      "cell_type": "markdown",
      "source": [
        "<p>You can access the model's layers using the <i>layers</i> attribute of our model object.</p>"
      ],
      "metadata": {
        "id": "vpC2Mj3jos6i"
      }
    },
    {
      "cell_type": "code",
      "source": [
        "model_vgg16.layers"
      ],
      "metadata": {
        "colab": {
          "base_uri": "https://localhost:8080/"
        },
        "id": "Q5ytJFysoiy6",
        "outputId": "68554519-3287-4b51-df76-0ff54255209e"
      },
      "execution_count": 8,
      "outputs": [
        {
          "output_type": "execute_result",
          "data": {
            "text/plain": [
              "[<keras.engine.functional.Functional at 0x7fabde8d2910>,\n",
              " <keras.layers.core.dense.Dense at 0x7fabe048ae50>]"
            ]
          },
          "metadata": {},
          "execution_count": 8
        }
      ]
    },
    {
      "cell_type": "markdown",
      "source": [
        "<p>And now using the <i>summary</i> attribute of the model.</p>"
      ],
      "metadata": {
        "id": "K5zEAwH7oxcV"
      }
    },
    {
      "cell_type": "code",
      "source": [
        "model_vgg16.summary()"
      ],
      "metadata": {
        "colab": {
          "base_uri": "https://localhost:8080/"
        },
        "id": "MjiRH2YSo2ex",
        "outputId": "49719441-df51-4d19-de1d-3392e187681b"
      },
      "execution_count": 9,
      "outputs": [
        {
          "output_type": "stream",
          "name": "stdout",
          "text": [
            "Model: \"sequential\"\n",
            "_________________________________________________________________\n",
            " Layer (type)                Output Shape              Param #   \n",
            "=================================================================\n",
            " vgg16 (Functional)          (None, 512)               14714688  \n",
            "                                                                 \n",
            " dense (Dense)               (None, 1)                 513       \n",
            "                                                                 \n",
            "=================================================================\n",
            "Total params: 14,715,201\n",
            "Trainable params: 513\n",
            "Non-trainable params: 14,714,688\n",
            "_________________________________________________________________\n"
          ]
        }
      ]
    },
    {
      "cell_type": "markdown",
      "source": [
        "<p>Next we compile our model using the <b>adam</b> optimizer.</p>"
      ],
      "metadata": {
        "id": "AuxljvQdpSS7"
      }
    },
    {
      "cell_type": "code",
      "source": [
        "model_vgg16.compile(optimizer='adam', loss='binary_crossentropy', metrics=['accuracy'])"
      ],
      "metadata": {
        "id": "3L_UtbJqpQd2"
      },
      "execution_count": 10,
      "outputs": []
    },
    {
      "cell_type": "markdown",
      "source": [
        "<h2 id=\"train_model\">Train the VGG16 Model</h2>"
      ],
      "metadata": {
        "id": "Sui7sW2CpYV6"
      }
    },
    {
      "cell_type": "markdown",
      "source": [
        "<p>We will need to define how many steps compose an epoch. Typically, that is the number of images divided by the batch size. Therefore, we define our steps per epoch as follows:</p>"
      ],
      "metadata": {
        "id": "2dJDCxWzpff2"
      }
    },
    {
      "cell_type": "code",
      "source": [
        "num_epochs = 2\n",
        "steps_per_epoch_training = len(train_dataset)\n",
        "steps_per_epoch_validation = len(validation_dataset)"
      ],
      "metadata": {
        "id": "WUi_1ermpcws"
      },
      "execution_count": 11,
      "outputs": []
    },
    {
      "cell_type": "code",
      "source": [
        "import time\n",
        "start = time.time()\n",
        "\n",
        "history = model_vgg16.fit(\n",
        "  train_dataset,\n",
        "  validation_data=validation_dataset,\n",
        "  epochs=num_epochs\n",
        ")\n",
        "\n",
        "end = time.time()\n",
        "\n",
        "elapsed_time = end - start\n",
        "\n",
        "print(f\"Elapsed Time:{elapsed_time}s\")"
      ],
      "metadata": {
        "colab": {
          "base_uri": "https://localhost:8080/"
        },
        "id": "DutLKT5Np0XK",
        "outputId": "896a71ce-a2be-4a39-f5ca-a42d1ac487e4"
      },
      "execution_count": 12,
      "outputs": [
        {
          "output_type": "stream",
          "name": "stdout",
          "text": [
            "Epoch 1/2\n",
            "78/78 [==============================] - 5327s 68s/step - loss: 0.4354 - accuracy: 0.5019 - val_loss: 0.2553 - val_accuracy: 0.4942\n",
            "Epoch 2/2\n",
            "78/78 [==============================] - 5280s 68s/step - loss: 0.1868 - accuracy: 0.5019 - val_loss: 0.1602 - val_accuracy: 0.4942\n",
            "Elapsed Time:10664.876508712769s\n"
          ]
        }
      ]
    },
    {
      "cell_type": "code",
      "source": [
        "model_vgg16.save('classifier_vgg16_model.h5')"
      ],
      "metadata": {
        "id": "bj3Rjy06sGLX"
      },
      "execution_count": 13,
      "outputs": []
    },
    {
      "cell_type": "code",
      "source": [
        "# Function taken from https://www.kaggle.com/code/lucasarielsaavedra/satellite-images-classification-94-accuracy\n",
        "import matplotlib.pyplot as plt\n",
        "\n",
        "def plot_history(history):\n",
        "    acc = history.history['accuracy']\n",
        "    val_acc = history.history['val_accuracy']\n",
        "\n",
        "    loss = history.history['loss']\n",
        "    val_loss = history.history['val_loss']\n",
        "\n",
        "    plt.figure(figsize=(20, 8))\n",
        "    plt.subplot(1, 2, 1)\n",
        "    plt.plot(range(len(acc)), acc, label='Training Accuracy')\n",
        "    plt.plot(range(len(val_acc)), val_acc, label='Validation Accuracy')\n",
        "    plt.legend(loc='lower right')\n",
        "    plt.title('Training and Validation Accuracy')\n",
        "\n",
        "    plt.subplot(1, 2, 2)\n",
        "    plt.plot(range(len(loss)), loss, label='Training Loss')\n",
        "    plt.plot(range(len(val_loss)), val_loss, label='Validation Loss')\n",
        "    plt.legend(loc='upper right')\n",
        "    plt.title('Training and Validation Loss')\n",
        "    plt.show()"
      ],
      "metadata": {
        "id": "-Furj4-Uwb61"
      },
      "execution_count": 18,
      "outputs": []
    },
    {
      "cell_type": "code",
      "source": [
        "num_parameters_time = {}\n",
        "num_parameters_accuracy = {}\n",
        "num_parameters = {}"
      ],
      "metadata": {
        "id": "6e14dHa0wd4Y"
      },
      "execution_count": 19,
      "outputs": []
    },
    {
      "cell_type": "code",
      "source": [
        "num_parameters[\"Base\"] = 14715201\n",
        "num_parameters_time[\"Base\"] = elapsed_time\n",
        "num_parameters_accuracy[\"Base\"] = history.history[\"val_accuracy\"][-1]"
      ],
      "metadata": {
        "id": "R9oCorJxwhA6"
      },
      "execution_count": 20,
      "outputs": []
    },
    {
      "cell_type": "code",
      "source": [
        "plot_history(history)"
      ],
      "metadata": {
        "colab": {
          "base_uri": "https://localhost:8080/",
          "height": 478
        },
        "id": "wA8W0FB1bluP",
        "outputId": "25594a53-e2d8-4cf7-a40f-134ac02880ae"
      },
      "execution_count": 21,
      "outputs": [
        {
          "output_type": "display_data",
          "data": {
            "text/plain": [
              "<Figure size 1440x576 with 2 Axes>"
            ],
            "image/png": "[encoded data removed]"
          },
          "metadata": {
            "needs_background": "light"
          }
        }
      ]
    },
    {
      "cell_type": "markdown",
      "source": [
        "<hr>\n",
        "\n",
        "<h1>Contact Me<h1>\n",
        "\n",
        "<p>If you have something to say to me please contact me:<p>\n",
        "\n",
        "*   Twitter: https://twitter.com/Doguilmak\n",
        "*   Mail address: doguilmak@gmail.com"
      ],
      "metadata": {
        "id": "gmZ-bVcDvuI0"
      }
    }
  ]
}
